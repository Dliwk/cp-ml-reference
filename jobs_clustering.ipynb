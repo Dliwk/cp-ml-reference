{
 "cells": [
  {
   "cell_type": "code",
   "execution_count": 1,
   "id": "f632529b-a0e1-497f-a211-eb6a14f7c728",
   "metadata": {},
   "outputs": [],
   "source": [
    "import pandas as pd\n",
    "from tqdm import tqdm\n",
    "import numpy as np\n",
    "import string\n",
    "from sklearn.cluster import AgglomerativeClustering"
   ]
  },
  {
   "cell_type": "markdown",
   "id": "97d630c3-15e9-451f-9fe4-a58f446906c7",
   "metadata": {},
   "source": [
    "Импортируем необходимый функционал. Для кластеризации будем использовать **AgglomerativeClustering** из-за его преимущества в скорости и в хорошей поддержке большого количества кластеров."
   ]
  },
  {
   "cell_type": "code",
   "execution_count": 2,
   "id": "e923ef20-61e7-40b1-afc3-4996cfffecc7",
   "metadata": {},
   "outputs": [],
   "source": [
    "data_path = \".\""
   ]
  },
  {
   "cell_type": "code",
   "execution_count": 3,
   "id": "aa3f6bcd-3361-406f-8bb3-6cc11e111c3f",
   "metadata": {},
   "outputs": [],
   "source": [
    "data = pd.read_csv(f'{data_path}/JOB_LIST.csv', encoding='utf-8', encoding_errors='ignore')\n",
    "data.dropna(inplace=True)\n",
    "data = data['job_title'].to_numpy()"
   ]
  },
  {
   "cell_type": "markdown",
   "id": "3ae8320b-3bb0-47f3-a390-0f79f6db3335",
   "metadata": {},
   "source": [
    "Выделяем учебную выборку как 3% самых популярных названий. Маленький размер связан с большим покрытием уже 3-мя процентами, а также с вычислительной сложностью задачи кластеризации "
   ]
  },
  {
   "cell_type": "code",
   "execution_count": 4,
   "id": "bb0f102b-c1ba-45f5-9405-c5010356c67e",
   "metadata": {},
   "outputs": [],
   "source": [
    "unique_data, freq = np.unique(data, return_counts=True)\n",
    "sorted_indexes = np.argsort(freq)[::-1]\n",
    "unique_data = unique_data[sorted_indexes]"
   ]
  },
  {
   "cell_type": "code",
   "execution_count": 5,
   "id": "d1408581-5afa-473f-bf7b-4fc3c7b4e42c",
   "metadata": {},
   "outputs": [
    {
     "data": {
      "text/plain": [
       "array(['Бухгалтер', 'Продавец', 'Водитель', ..., 'Зкономист', 'Продавац',\n",
       "       'Изолировщик на теплоизоляции'], dtype=object)"
      ]
     },
     "execution_count": 5,
     "metadata": {},
     "output_type": "execute_result"
    }
   ],
   "source": [
    "m = len(unique_data)\n",
    "training_data = unique_data[:int(m * 0.03)]\n",
    "n = len(training_data)\n",
    "training_data"
   ]
  },
  {
   "cell_type": "markdown",
   "id": "78d8add8-b030-4b5a-8e06-695aa0ce5054",
   "metadata": {},
   "source": [
    "Для начала подготовим данные для модели. Ключевых идей несколько:\n",
    "- Будем анализировать биграммы, так как самые частые опечатки - неправильная буква или ошибка в порядке соседних букв (ввиду быстрого набора текста). Но такие изменения не очень сказываются на распределении биграмм. Соответственно кластеризировать мы будем вектора из частот биграмм"
   ]
  },
  {
   "cell_type": "code",
   "execution_count": 6,
   "id": "029bfb0b-8b1e-4bfc-80ca-d0f14e386e5f",
   "metadata": {},
   "outputs": [],
   "source": [
    "def preprocess(word):\n",
    "    word = word.lower()\n",
    "    save = 'йцкнгшщзхфвпрлджчсмтб'\n",
    "    new_word = ''\n",
    "    for ch in word:\n",
    "        if ch in save:\n",
    "            new_word += ch\n",
    "    return new_word\n",
    "\n",
    "def calculate_bigram(word):\n",
    "    result = np.zeros(33 * 33, dtype='int')\n",
    "    for j in range(len(word) - 1):\n",
    "        x = ord(word[j]) - ord('а')\n",
    "        y = ord(word[j + 1]) - ord('а')\n",
    "        result[x * 33 + y] += 1\n",
    "    return result"
   ]
  },
  {
   "cell_type": "markdown",
   "id": "7b82d5f9-b979-455f-be57-5cb0da753b84",
   "metadata": {},
   "source": [
    "Сделаем препроцессинг каждого слова (выкинем все кроме согласных)"
   ]
  },
  {
   "cell_type": "code",
   "execution_count": 7,
   "id": "21b23f55-3c71-4872-bf09-87c4792fa547",
   "metadata": {},
   "outputs": [
    {
     "name": "stderr",
     "output_type": "stream",
     "text": [
      "100%|█████████████████████████████████| 30060/30060 [00:00<00:00, 370261.71it/s]\n"
     ]
    }
   ],
   "source": [
    "preprocessed_data = [''] * n\n",
    "for i in tqdm(range(n)):\n",
    "    preprocessed_data[i] = preprocess(training_data[i])"
   ]
  },
  {
   "cell_type": "markdown",
   "id": "f297ed1a-48d6-4128-bcd6-0a6fea6a1420",
   "metadata": {},
   "source": [
    "Теперь посчитаем вектор частот биграмм для каждого слова"
   ]
  },
  {
   "cell_type": "code",
   "execution_count": 8,
   "id": "f0a52c7a-7578-4fda-9ac5-bd6d346a29ce",
   "metadata": {},
   "outputs": [
    {
     "name": "stderr",
     "output_type": "stream",
     "text": [
      "100%|█████████████████████████████████| 30060/30060 [00:00<00:00, 119374.67it/s]\n"
     ]
    }
   ],
   "source": [
    "bigrams = np.array([np.zeros(33*33) for i in range(n)])\n",
    "for i in tqdm(range(n)):\n",
    "    bigrams[i] = calculate_bigram(preprocessed_data[i])"
   ]
  },
  {
   "cell_type": "markdown",
   "id": "66b9bdf5-ccd0-496a-a244-48546e2204cf",
   "metadata": {},
   "source": [
    "Теперь создадим модель для кластеризации. Используем евклюдову метрику (по умолчанию), чтобы иметь возможность объединять кластеры (не вдаваясь в подробности работы самой модели), минимизируя дисперсию внутри кластера. Остальные гиперпараметры были подобраны во время подготовки."
   ]
  },
  {
   "cell_type": "code",
   "execution_count": 9,
   "id": "4199877a-0afd-4958-b20c-ef55540486e1",
   "metadata": {},
   "outputs": [],
   "source": [
    "model = AgglomerativeClustering(distance_threshold=5, linkage='ward', n_clusters=None).fit(bigrams)"
   ]
  },
  {
   "cell_type": "markdown",
   "id": "1837b4dd-a669-41af-aeef-e5414b651037",
   "metadata": {},
   "source": [
    "Дальнейший алгоритм заключается в следующем:\n",
    "- Для каждого кластера на основании **всех** данных выберем самый частовстречающийся - назовем его представителем\n",
    "- Чтобы предсказать правильное написание найдем кластер с минимальным расстояниям **по всем** словам из кластера и возьмем представителя"
   ]
  },
  {
   "cell_type": "code",
   "execution_count": 10,
   "id": "0e3138ab-20c3-4156-84f9-fd70e0f43dc4",
   "metadata": {},
   "outputs": [],
   "source": [
    "def mse(a, b):\n",
    "    return np.square(np.subtract(a, b)).mean()\n",
    "\n",
    "class Cluster:\n",
    "    def __init__(self):\n",
    "        self.names = []\n",
    "        self.bigrams = []\n",
    "        self.best_ = 0\n",
    "\n",
    "    def append(self, name, bigram):\n",
    "        self.names.append(name)\n",
    "        self.bigrams.append(bigram)\n",
    "\n",
    "    def distance(self, bigram):\n",
    "        if len(self.names) == 0:\n",
    "            return float('inf')\n",
    "        result = mse(bigram, self.bigrams[0])\n",
    "        for i in range(1, len(self.bigrams)):\n",
    "            result = min(result, mse(bigram, self.bigrams[i]))\n",
    "        return result\n",
    "\n",
    "    def fit(self, X):\n",
    "        if len(self.names) == 0:\n",
    "            return\n",
    "        count = [0 for i in range(len(self.names))]\n",
    "        for name in X:\n",
    "            if name in self.names:\n",
    "                count[self.names.index(name)] += 1\n",
    "        self.best_ = count.index(max(count))\n",
    "\n",
    "    def best(self):\n",
    "        if len(self.names) == 0:\n",
    "            return None\n",
    "        return self.names[self.best_]\n"
   ]
  },
  {
   "cell_type": "code",
   "execution_count": 11,
   "id": "8c008074-0f10-45eb-9b9d-9b1a5bf3bcbc",
   "metadata": {},
   "outputs": [],
   "source": [
    "class MisspellModel:\n",
    "    def __init__(self, n, labels, names, bigrams):\n",
    "        self.clusters = [Cluster() for i in range(n)]\n",
    "        for i in range(n):\n",
    "            label = labels[i]\n",
    "            self.clusters[label].append(names[i], bigrams[i])\n",
    "\n",
    "    def fit(self, X):\n",
    "        for i in tqdm(range(len(self.clusters))):\n",
    "            self.clusters[i].fit(X)\n",
    "\n",
    "    def predict(self, word):\n",
    "        x = calculate_bigram(preprocess(word))\n",
    "        dist = [0 for i in range(len(self.clusters))]\n",
    "        for i in range(len(self.clusters)):\n",
    "            dist[i] = self.clusters[i].distance(x)\n",
    "        return self.clusters[dist.index(min(dist))].best()"
   ]
  },
  {
   "cell_type": "code",
   "execution_count": 12,
   "id": "f6726f84-7ebd-4d76-9cf4-8066765a3a9a",
   "metadata": {},
   "outputs": [],
   "source": [
    "predicter = MisspellModel(model.n_clusters_, model.labels_, training_data, bigrams)"
   ]
  },
  {
   "cell_type": "code",
   "execution_count": 13,
   "id": "a5e5c0fc-ebef-48c7-8ce0-c8ed8581865c",
   "metadata": {},
   "outputs": [
    {
     "name": "stderr",
     "output_type": "stream",
     "text": [
      "100%|█████████████████████████████████████| 4801/4801 [2:20:08<00:00,  1.75s/it]\n"
     ]
    }
   ],
   "source": [
    "predicter.fit(data)"
   ]
  },
  {
   "cell_type": "markdown",
   "id": "23f40485-164e-42ff-bee8-15cd1cd14972",
   "metadata": {},
   "source": [
    "Пример работы предсказателя"
   ]
  },
  {
   "cell_type": "code",
   "execution_count": 16,
   "id": "1e48e58b-0f07-4a46-9835-2a7ba049d928",
   "metadata": {},
   "outputs": [
    {
     "data": {
      "text/plain": [
       "'Сварщик'"
      ]
     },
     "execution_count": 16,
     "metadata": {},
     "output_type": "execute_result"
    }
   ],
   "source": [
    "predicter.predict('Сарщик')"
   ]
  },
  {
   "cell_type": "code",
   "execution_count": 18,
   "id": "fb839c2d-8f74-4170-8e81-af6d8e9c6a06",
   "metadata": {},
   "outputs": [
    {
     "data": {
      "text/plain": [
       "'Менеджер по работе с населением'"
      ]
     },
     "execution_count": 18,
     "metadata": {},
     "output_type": "execute_result"
    }
   ],
   "source": [
    "predicter.predict('по работе с населением')"
   ]
  },
  {
   "cell_type": "code",
   "execution_count": 25,
   "id": "22fcb5b0-8215-4459-a50f-878d7120a1a5",
   "metadata": {},
   "outputs": [
    {
     "data": {
      "text/plain": [
       "'Продавец'"
      ]
     },
     "execution_count": 25,
     "metadata": {},
     "output_type": "execute_result"
    }
   ],
   "source": [
    "predicter.predict('родавец')"
   ]
  },
  {
   "cell_type": "code",
   "execution_count": 29,
   "id": "976658c1-5dc4-4f54-bd60-2e51ad1a38e5",
   "metadata": {},
   "outputs": [
    {
     "data": {
      "text/plain": [
       "'Водитель'"
      ]
     },
     "execution_count": 29,
     "metadata": {},
     "output_type": "execute_result"
    }
   ],
   "source": [
    "predicter.predict('Водитеь')"
   ]
  },
  {
   "cell_type": "code",
   "execution_count": 36,
   "id": "af3551a7-2190-402b-aab5-b35bf7dda06b",
   "metadata": {},
   "outputs": [],
   "source": [
    "# df_TRAIN_RES_1 = pd.read_csv(f'{data_path}/TRAIN_RES_1.csv') # всего их 5\n",
    "df = pd.read_csv('./TEST_SAL.csv')"
   ]
  },
  {
   "cell_type": "code",
   "execution_count": 45,
   "id": "c54c6b99-5747-4caf-b33d-72ef5c0d0b63",
   "metadata": {},
   "outputs": [
    {
     "data": {
      "text/plain": [
       "0       1087746619487\n",
       "1       1137746734399\n",
       "2       1082360000106\n",
       "3       1024201368740\n",
       "4       1033231004223\n",
       "            ...      \n",
       "1951    1021300928703\n",
       "1952    1026901734265\n",
       "1953    1022601320631\n",
       "1954    1207800127875\n",
       "1955    1022302836654\n",
       "Name: company_code, Length: 1956, dtype: object"
      ]
     },
     "execution_count": 45,
     "metadata": {},
     "output_type": "execute_result"
    }
   ],
   "source": [
    "df['company_code']"
   ]
  },
  {
   "cell_type": "code",
   "execution_count": null,
   "id": "292c9d8d-fa30-409d-a7eb-8c2a90d23385",
   "metadata": {},
   "outputs": [],
   "source": []
  }
 ],
 "metadata": {
  "kernelspec": {
   "display_name": "Python 3 (ipykernel)",
   "language": "python",
   "name": "python3"
  },
  "language_info": {
   "codemirror_mode": {
    "name": "ipython",
    "version": 3
   },
   "file_extension": ".py",
   "mimetype": "text/x-python",
   "name": "python",
   "nbconvert_exporter": "python",
   "pygments_lexer": "ipython3",
   "version": "3.12.4"
  }
 },
 "nbformat": 4,
 "nbformat_minor": 5
}
